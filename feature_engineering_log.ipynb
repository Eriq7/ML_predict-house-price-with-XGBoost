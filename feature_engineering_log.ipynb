{
 "cells": [
  {
   "cell_type": "code",
   "execution_count": 1,
   "id": "5e8bc18b",
   "metadata": {},
   "outputs": [],
   "source": [
    "import pandas as pd\n",
    "train_df = pd.read_csv('train.csv', index_col = 'Id')\n",
    "test_df = pd.read_csv('test.csv', index_col = 'Id')\n",
    "\n",
    "train_df.dropna(subset = ['SalePrice'], axis = 0, inplace = True)\n",
    "y = train_df['SalePrice']\n",
    "x = train_df.drop(columns = ['SalePrice'], axis = 1)\n"
   ]
  },
  {
   "cell_type": "code",
   "execution_count": 2,
   "id": "34ee2720",
   "metadata": {},
   "outputs": [
    {
     "data": {
      "text/html": [
       "<div>\n",
       "<style scoped>\n",
       "    .dataframe tbody tr th:only-of-type {\n",
       "        vertical-align: middle;\n",
       "    }\n",
       "\n",
       "    .dataframe tbody tr th {\n",
       "        vertical-align: top;\n",
       "    }\n",
       "\n",
       "    .dataframe thead th {\n",
       "        text-align: right;\n",
       "    }\n",
       "</style>\n",
       "<table border=\"1\" class=\"dataframe\">\n",
       "  <thead>\n",
       "    <tr style=\"text-align: right;\">\n",
       "      <th></th>\n",
       "      <th>MSSubClass</th>\n",
       "      <th>MSZoning</th>\n",
       "      <th>LotFrontage</th>\n",
       "      <th>LotArea</th>\n",
       "      <th>Street</th>\n",
       "      <th>Alley</th>\n",
       "      <th>LotShape</th>\n",
       "      <th>LandContour</th>\n",
       "      <th>Utilities</th>\n",
       "      <th>LotConfig</th>\n",
       "      <th>...</th>\n",
       "      <th>ScreenPorch</th>\n",
       "      <th>PoolArea</th>\n",
       "      <th>PoolQC</th>\n",
       "      <th>Fence</th>\n",
       "      <th>MiscFeature</th>\n",
       "      <th>MiscVal</th>\n",
       "      <th>MoSold</th>\n",
       "      <th>YrSold</th>\n",
       "      <th>SaleType</th>\n",
       "      <th>SaleCondition</th>\n",
       "    </tr>\n",
       "    <tr>\n",
       "      <th>Id</th>\n",
       "      <th></th>\n",
       "      <th></th>\n",
       "      <th></th>\n",
       "      <th></th>\n",
       "      <th></th>\n",
       "      <th></th>\n",
       "      <th></th>\n",
       "      <th></th>\n",
       "      <th></th>\n",
       "      <th></th>\n",
       "      <th></th>\n",
       "      <th></th>\n",
       "      <th></th>\n",
       "      <th></th>\n",
       "      <th></th>\n",
       "      <th></th>\n",
       "      <th></th>\n",
       "      <th></th>\n",
       "      <th></th>\n",
       "      <th></th>\n",
       "      <th></th>\n",
       "    </tr>\n",
       "  </thead>\n",
       "  <tbody>\n",
       "    <tr>\n",
       "      <th>1</th>\n",
       "      <td>60</td>\n",
       "      <td>RL</td>\n",
       "      <td>65.0</td>\n",
       "      <td>8450</td>\n",
       "      <td>Pave</td>\n",
       "      <td>NaN</td>\n",
       "      <td>Reg</td>\n",
       "      <td>Lvl</td>\n",
       "      <td>AllPub</td>\n",
       "      <td>Inside</td>\n",
       "      <td>...</td>\n",
       "      <td>0</td>\n",
       "      <td>0</td>\n",
       "      <td>NaN</td>\n",
       "      <td>NaN</td>\n",
       "      <td>NaN</td>\n",
       "      <td>0</td>\n",
       "      <td>2</td>\n",
       "      <td>2008</td>\n",
       "      <td>WD</td>\n",
       "      <td>Normal</td>\n",
       "    </tr>\n",
       "    <tr>\n",
       "      <th>2</th>\n",
       "      <td>20</td>\n",
       "      <td>RL</td>\n",
       "      <td>80.0</td>\n",
       "      <td>9600</td>\n",
       "      <td>Pave</td>\n",
       "      <td>NaN</td>\n",
       "      <td>Reg</td>\n",
       "      <td>Lvl</td>\n",
       "      <td>AllPub</td>\n",
       "      <td>FR2</td>\n",
       "      <td>...</td>\n",
       "      <td>0</td>\n",
       "      <td>0</td>\n",
       "      <td>NaN</td>\n",
       "      <td>NaN</td>\n",
       "      <td>NaN</td>\n",
       "      <td>0</td>\n",
       "      <td>5</td>\n",
       "      <td>2007</td>\n",
       "      <td>WD</td>\n",
       "      <td>Normal</td>\n",
       "    </tr>\n",
       "    <tr>\n",
       "      <th>3</th>\n",
       "      <td>60</td>\n",
       "      <td>RL</td>\n",
       "      <td>68.0</td>\n",
       "      <td>11250</td>\n",
       "      <td>Pave</td>\n",
       "      <td>NaN</td>\n",
       "      <td>IR1</td>\n",
       "      <td>Lvl</td>\n",
       "      <td>AllPub</td>\n",
       "      <td>Inside</td>\n",
       "      <td>...</td>\n",
       "      <td>0</td>\n",
       "      <td>0</td>\n",
       "      <td>NaN</td>\n",
       "      <td>NaN</td>\n",
       "      <td>NaN</td>\n",
       "      <td>0</td>\n",
       "      <td>9</td>\n",
       "      <td>2008</td>\n",
       "      <td>WD</td>\n",
       "      <td>Normal</td>\n",
       "    </tr>\n",
       "    <tr>\n",
       "      <th>4</th>\n",
       "      <td>70</td>\n",
       "      <td>RL</td>\n",
       "      <td>60.0</td>\n",
       "      <td>9550</td>\n",
       "      <td>Pave</td>\n",
       "      <td>NaN</td>\n",
       "      <td>IR1</td>\n",
       "      <td>Lvl</td>\n",
       "      <td>AllPub</td>\n",
       "      <td>Corner</td>\n",
       "      <td>...</td>\n",
       "      <td>0</td>\n",
       "      <td>0</td>\n",
       "      <td>NaN</td>\n",
       "      <td>NaN</td>\n",
       "      <td>NaN</td>\n",
       "      <td>0</td>\n",
       "      <td>2</td>\n",
       "      <td>2006</td>\n",
       "      <td>WD</td>\n",
       "      <td>Abnorml</td>\n",
       "    </tr>\n",
       "    <tr>\n",
       "      <th>5</th>\n",
       "      <td>60</td>\n",
       "      <td>RL</td>\n",
       "      <td>84.0</td>\n",
       "      <td>14260</td>\n",
       "      <td>Pave</td>\n",
       "      <td>NaN</td>\n",
       "      <td>IR1</td>\n",
       "      <td>Lvl</td>\n",
       "      <td>AllPub</td>\n",
       "      <td>FR2</td>\n",
       "      <td>...</td>\n",
       "      <td>0</td>\n",
       "      <td>0</td>\n",
       "      <td>NaN</td>\n",
       "      <td>NaN</td>\n",
       "      <td>NaN</td>\n",
       "      <td>0</td>\n",
       "      <td>12</td>\n",
       "      <td>2008</td>\n",
       "      <td>WD</td>\n",
       "      <td>Normal</td>\n",
       "    </tr>\n",
       "  </tbody>\n",
       "</table>\n",
       "<p>5 rows × 79 columns</p>\n",
       "</div>"
      ],
      "text/plain": [
       "    MSSubClass MSZoning  LotFrontage  LotArea Street Alley LotShape  \\\n",
       "Id                                                                    \n",
       "1           60       RL         65.0     8450   Pave   NaN      Reg   \n",
       "2           20       RL         80.0     9600   Pave   NaN      Reg   \n",
       "3           60       RL         68.0    11250   Pave   NaN      IR1   \n",
       "4           70       RL         60.0     9550   Pave   NaN      IR1   \n",
       "5           60       RL         84.0    14260   Pave   NaN      IR1   \n",
       "\n",
       "   LandContour Utilities LotConfig  ... ScreenPorch PoolArea PoolQC Fence  \\\n",
       "Id                                  ...                                     \n",
       "1          Lvl    AllPub    Inside  ...           0        0    NaN   NaN   \n",
       "2          Lvl    AllPub       FR2  ...           0        0    NaN   NaN   \n",
       "3          Lvl    AllPub    Inside  ...           0        0    NaN   NaN   \n",
       "4          Lvl    AllPub    Corner  ...           0        0    NaN   NaN   \n",
       "5          Lvl    AllPub       FR2  ...           0        0    NaN   NaN   \n",
       "\n",
       "   MiscFeature MiscVal  MoSold  YrSold  SaleType  SaleCondition  \n",
       "Id                                                               \n",
       "1          NaN       0       2    2008        WD         Normal  \n",
       "2          NaN       0       5    2007        WD         Normal  \n",
       "3          NaN       0       9    2008        WD         Normal  \n",
       "4          NaN       0       2    2006        WD        Abnorml  \n",
       "5          NaN       0      12    2008        WD         Normal  \n",
       "\n",
       "[5 rows x 79 columns]"
      ]
     },
     "execution_count": 2,
     "metadata": {},
     "output_type": "execute_result"
    }
   ],
   "source": [
    "x.head()"
   ]
  },
  {
   "cell_type": "code",
   "execution_count": 3,
   "id": "a13c139d",
   "metadata": {},
   "outputs": [
    {
     "data": {
      "image/png": "[encoded data removed]",
      "text/plain": [
       "<Figure size 640x480 with 1 Axes>"
      ]
     },
     "metadata": {},
     "output_type": "display_data"
    }
   ],
   "source": [
    "import seaborn as sns\n",
    "import matplotlib.pyplot as plt\n",
    "sns.histplot(x = 'SalePrice', data = train_df, kde = True, bins = 100)\n",
    "plt.show()"
   ]
  },
  {
   "cell_type": "markdown",
   "id": "4ee31e39",
   "metadata": {},
   "source": [
    "# Drop features which contain too much null value\n",
    "we use functions to find the values but we will decide how to handle those values by person, not by machine"
   ]
  },
  {
   "cell_type": "code",
   "execution_count": 4,
   "id": "c001cb35",
   "metadata": {},
   "outputs": [
    {
     "name": "stdout",
     "output_type": "stream",
     "text": [
      "now consider drop columns ['PoolQC', 'MiscFeature', 'Alley', 'Fence'] because they contains more than 80% null value\n"
     ]
    },
    {
     "data": {
      "text/html": [
       "<div>\n",
       "<style scoped>\n",
       "    .dataframe tbody tr th:only-of-type {\n",
       "        vertical-align: middle;\n",
       "    }\n",
       "\n",
       "    .dataframe tbody tr th {\n",
       "        vertical-align: top;\n",
       "    }\n",
       "\n",
       "    .dataframe thead th {\n",
       "        text-align: right;\n",
       "    }\n",
       "</style>\n",
       "<table border=\"1\" class=\"dataframe\">\n",
       "  <thead>\n",
       "    <tr style=\"text-align: right;\">\n",
       "      <th></th>\n",
       "      <th>null value percent</th>\n",
       "    </tr>\n",
       "  </thead>\n",
       "  <tbody>\n",
       "    <tr>\n",
       "      <th>PoolQC</th>\n",
       "      <td>99.520548</td>\n",
       "    </tr>\n",
       "    <tr>\n",
       "      <th>MiscFeature</th>\n",
       "      <td>96.301370</td>\n",
       "    </tr>\n",
       "    <tr>\n",
       "      <th>Alley</th>\n",
       "      <td>93.767123</td>\n",
       "    </tr>\n",
       "    <tr>\n",
       "      <th>Fence</th>\n",
       "      <td>80.753425</td>\n",
       "    </tr>\n",
       "    <tr>\n",
       "      <th>MasVnrType</th>\n",
       "      <td>59.726027</td>\n",
       "    </tr>\n",
       "    <tr>\n",
       "      <th>FireplaceQu</th>\n",
       "      <td>47.260274</td>\n",
       "    </tr>\n",
       "    <tr>\n",
       "      <th>LotFrontage</th>\n",
       "      <td>17.739726</td>\n",
       "    </tr>\n",
       "    <tr>\n",
       "      <th>GarageType</th>\n",
       "      <td>5.547945</td>\n",
       "    </tr>\n",
       "    <tr>\n",
       "      <th>GarageYrBlt</th>\n",
       "      <td>5.547945</td>\n",
       "    </tr>\n",
       "    <tr>\n",
       "      <th>GarageFinish</th>\n",
       "      <td>5.547945</td>\n",
       "    </tr>\n",
       "    <tr>\n",
       "      <th>GarageQual</th>\n",
       "      <td>5.547945</td>\n",
       "    </tr>\n",
       "    <tr>\n",
       "      <th>GarageCond</th>\n",
       "      <td>5.547945</td>\n",
       "    </tr>\n",
       "    <tr>\n",
       "      <th>BsmtFinType2</th>\n",
       "      <td>2.602740</td>\n",
       "    </tr>\n",
       "    <tr>\n",
       "      <th>BsmtExposure</th>\n",
       "      <td>2.602740</td>\n",
       "    </tr>\n",
       "    <tr>\n",
       "      <th>BsmtFinType1</th>\n",
       "      <td>2.534247</td>\n",
       "    </tr>\n",
       "    <tr>\n",
       "      <th>BsmtCond</th>\n",
       "      <td>2.534247</td>\n",
       "    </tr>\n",
       "    <tr>\n",
       "      <th>BsmtQual</th>\n",
       "      <td>2.534247</td>\n",
       "    </tr>\n",
       "    <tr>\n",
       "      <th>MasVnrArea</th>\n",
       "      <td>0.547945</td>\n",
       "    </tr>\n",
       "    <tr>\n",
       "      <th>Electrical</th>\n",
       "      <td>0.068493</td>\n",
       "    </tr>\n",
       "  </tbody>\n",
       "</table>\n",
       "</div>"
      ],
      "text/plain": [
       "              null value percent\n",
       "PoolQC                 99.520548\n",
       "MiscFeature            96.301370\n",
       "Alley                  93.767123\n",
       "Fence                  80.753425\n",
       "MasVnrType             59.726027\n",
       "FireplaceQu            47.260274\n",
       "LotFrontage            17.739726\n",
       "GarageType              5.547945\n",
       "GarageYrBlt             5.547945\n",
       "GarageFinish            5.547945\n",
       "GarageQual              5.547945\n",
       "GarageCond              5.547945\n",
       "BsmtFinType2            2.602740\n",
       "BsmtExposure            2.602740\n",
       "BsmtFinType1            2.534247\n",
       "BsmtCond                2.534247\n",
       "BsmtQual                2.534247\n",
       "MasVnrArea              0.547945\n",
       "Electrical              0.068493"
      ]
     },
     "execution_count": 4,
     "metadata": {},
     "output_type": "execute_result"
    }
   ],
   "source": [
    "# Find Missing values columns in x_full\n",
    "def missing_cols(df: pd.DataFrame, threshold = 0, max_null_percent = 80):# if want to delete columns with specific percent, change value of max_null_percent\n",
    "    missing_col = (df.isnull().sum()/len(df))*100\n",
    "   \n",
    "    missing_col = missing_col[missing_col > threshold].sort_values(ascending = False)\n",
    "    toomuch_null_col = missing_col[missing_col > max_null_percent].index.tolist()\n",
    "\n",
    "    print(f'now consider drop columns {toomuch_null_col} because they contains more than {max_null_percent}% null value')\n",
    "    \n",
    "    return pd.DataFrame({'null value percent': missing_col})\n",
    "\n",
    "missing_cols(x)"
   ]
  },
  {
   "cell_type": "code",
   "execution_count": 5,
   "id": "97318d79",
   "metadata": {},
   "outputs": [],
   "source": [
    "# we decided to drop dolumns by our missing_cols function output:\n",
    "x = x.drop(columns = ['PoolQC', 'MiscFeature', 'Alley', 'Fence'], axis = 1)\n",
    "test_df_copy  = test_df.copy()\n",
    "test_df_copy = test_df.drop(columns = ['PoolQC', 'MiscFeature', 'Alley', 'Fence'], axis = 1)"
   ]
  },
  {
   "cell_type": "code",
   "execution_count": 6,
   "id": "0fcaddc6",
   "metadata": {},
   "outputs": [
    {
     "data": {
      "text/plain": [
       "False"
      ]
     },
     "execution_count": 6,
     "metadata": {},
     "output_type": "execute_result"
    }
   ],
   "source": [
    "# test if drop successfully\n",
    "'Alley' in test_df_copy\n",
    "# we already drop."
   ]
  },
  {
   "cell_type": "markdown",
   "id": "e8065fdd",
   "metadata": {},
   "source": [
    "# Drop outliers rows in our train_df"
   ]
  },
  {
   "cell_type": "code",
   "execution_count": 7,
   "id": "7b727255",
   "metadata": {},
   "outputs": [
    {
     "name": "stdout",
     "output_type": "stream",
     "text": [
      "False\n"
     ]
    }
   ],
   "source": [
    "# spliting num and cat columns\n",
    "def split_num_cat(df: pd.DataFrame):\n",
    "    num = df.select_dtypes(include = ['float64', 'int']).columns.tolist()\n",
    "    cat = df.select_dtypes(include = ['object']).columns.tolist()\n",
    "    return num, cat\n",
    "\n",
    "for col in ['MSSubClass', 'MoSold', 'YrSold']:\n",
    "    if col in x.columns: x[col] = x[col].astype(str)\n",
    "    if col in test_df_copy.columns: test_df_copy[col] = test_df_copy[col].astype(str)\n",
    "\n",
    "num, cat = split_num_cat(x)\n",
    "\n",
    "print('MSSubClass' in num)"
   ]
  },
  {
   "cell_type": "code",
   "execution_count": 8,
   "id": "df378227",
   "metadata": {},
   "outputs": [
    {
     "name": "stdout",
     "output_type": "stream",
     "text": [
      "['LotFrontage', 'LotArea', 'YearBuilt', 'YearRemodAdd', 'MasVnrArea', 'BsmtFinSF1', 'BsmtFinSF2', 'BsmtUnfSF', 'TotalBsmtSF', '1stFlrSF', '2ndFlrSF', 'LowQualFinSF', 'GrLivArea', 'GarageYrBlt', 'GarageArea', 'WoodDeckSF', 'OpenPorchSF', 'EnclosedPorch', '3SsnPorch', 'ScreenPorch', 'PoolArea', 'MiscVal']\n"
     ]
    },
    {
     "data": {
      "text/plain": [
       "22"
      ]
     },
     "execution_count": 8,
     "metadata": {},
     "output_type": "execute_result"
    }
   ],
   "source": [
    "# by reading the data and our experience:\n",
    "discrete_num_cols = ['OverallQual','OverallCond','BsmtFullBath','BsmtHalfBath','FullBath','HalfBath',\n",
    "                'BedroomAbvGr', 'KitchenAbvGr', 'TotRmsAbvGrd', 'Fireplaces', 'GarageCars', 'MoSold', 'YrSold','MSSubClass']\n",
    "\n",
    "continuous_num_cols = []\n",
    "for i in num: \n",
    "    if i not in discrete_num_cols:\n",
    "        continuous_num_cols.append(i)\n",
    "print(continuous_num_cols)\n",
    "len(continuous_num_cols)"
   ]
  },
  {
   "cell_type": "code",
   "execution_count": 9,
   "id": "6e1a9f4a",
   "metadata": {},
   "outputs": [
    {
     "data": {
      "text/plain": [
       "(           column    lower     upper  n_outliers\n",
       " 17  EnclosedPorch     0.00      0.00         208\n",
       " 6      BsmtFinSF2     0.00      0.00         167\n",
       " 19    ScreenPorch     0.00      0.00         116\n",
       " 4      MasVnrArea     0.00    166.00          96\n",
       " 0     LotFrontage    59.00     80.00          88\n",
       " 16    OpenPorchSF     0.00     68.00          77\n",
       " 1         LotArea  7553.50  11601.50          69\n",
       " 8     TotalBsmtSF   795.75   1298.25          61\n",
       " 21        MiscVal     0.00      0.00          52\n",
       " 15     WoodDeckSF     0.00    168.00          32\n",
       " 12      GrLivArea  1129.50   1776.75          31\n",
       " 7       BsmtUnfSF   223.00    808.00          29\n",
       " 11   LowQualFinSF     0.00      0.00          26\n",
       " 18      3SsnPorch     0.00      0.00          24\n",
       " 14     GarageArea   334.50    576.00          21\n",
       " 9        1stFlrSF   882.00   1391.25          20\n",
       " 5      BsmtFinSF1     0.00    712.25           7\n",
       " 2       YearBuilt  1954.00   2000.00           7\n",
       " 20       PoolArea     0.00      0.00           7\n",
       " 10       2ndFlrSF     0.00    728.00           2\n",
       " 13    GarageYrBlt  1961.00   2002.00           0\n",
       " 3    YearRemodAdd  1967.00   2004.00           0,\n",
       " {4,\n",
       "  6,\n",
       "  8,\n",
       "  9,\n",
       "  13,\n",
       "  15,\n",
       "  17,\n",
       "  18,\n",
       "  22,\n",
       "  23,\n",
       "  25,\n",
       "  26,\n",
       "  27,\n",
       "  29,\n",
       "  30,\n",
       "  31,\n",
       "  37,\n",
       "  38,\n",
       "  40,\n",
       "  42,\n",
       "  43,\n",
       "  44,\n",
       "  45,\n",
       "  47,\n",
       "  49,\n",
       "  52,\n",
       "  53,\n",
       "  54,\n",
       "  56,\n",
       "  57,\n",
       "  59,\n",
       "  62,\n",
       "  64,\n",
       "  65,\n",
       "  67,\n",
       "  70,\n",
       "  71,\n",
       "  73,\n",
       "  74,\n",
       "  75,\n",
       "  76,\n",
       "  78,\n",
       "  79,\n",
       "  80,\n",
       "  81,\n",
       "  82,\n",
       "  83,\n",
       "  85,\n",
       "  86,\n",
       "  87,\n",
       "  88,\n",
       "  89,\n",
       "  91,\n",
       "  93,\n",
       "  94,\n",
       "  96,\n",
       "  99,\n",
       "  100,\n",
       "  103,\n",
       "  105,\n",
       "  106,\n",
       "  107,\n",
       "  108,\n",
       "  109,\n",
       "  110,\n",
       "  113,\n",
       "  114,\n",
       "  115,\n",
       "  116,\n",
       "  117,\n",
       "  119,\n",
       "  121,\n",
       "  122,\n",
       "  123,\n",
       "  126,\n",
       "  127,\n",
       "  130,\n",
       "  135,\n",
       "  138,\n",
       "  146,\n",
       "  151,\n",
       "  152,\n",
       "  154,\n",
       "  155,\n",
       "  156,\n",
       "  157,\n",
       "  160,\n",
       "  162,\n",
       "  165,\n",
       "  166,\n",
       "  167,\n",
       "  170,\n",
       "  171,\n",
       "  172,\n",
       "  173,\n",
       "  174,\n",
       "  175,\n",
       "  176,\n",
       "  177,\n",
       "  178,\n",
       "  179,\n",
       "  180,\n",
       "  181,\n",
       "  182,\n",
       "  183,\n",
       "  184,\n",
       "  186,\n",
       "  188,\n",
       "  190,\n",
       "  194,\n",
       "  196,\n",
       "  197,\n",
       "  198,\n",
       "  199,\n",
       "  200,\n",
       "  202,\n",
       "  203,\n",
       "  206,\n",
       "  208,\n",
       "  209,\n",
       "  211,\n",
       "  215,\n",
       "  218,\n",
       "  219,\n",
       "  223,\n",
       "  224,\n",
       "  225,\n",
       "  226,\n",
       "  228,\n",
       "  231,\n",
       "  232,\n",
       "  233,\n",
       "  234,\n",
       "  236,\n",
       "  238,\n",
       "  239,\n",
       "  243,\n",
       "  247,\n",
       "  250,\n",
       "  251,\n",
       "  252,\n",
       "  254,\n",
       "  259,\n",
       "  260,\n",
       "  261,\n",
       "  264,\n",
       "  266,\n",
       "  268,\n",
       "  269,\n",
       "  271,\n",
       "  272,\n",
       "  274,\n",
       "  276,\n",
       "  277,\n",
       "  278,\n",
       "  279,\n",
       "  281,\n",
       "  285,\n",
       "  287,\n",
       "  290,\n",
       "  291,\n",
       "  292,\n",
       "  293,\n",
       "  294,\n",
       "  298,\n",
       "  299,\n",
       "  303,\n",
       "  305,\n",
       "  307,\n",
       "  310,\n",
       "  313,\n",
       "  314,\n",
       "  315,\n",
       "  317,\n",
       "  318,\n",
       "  319,\n",
       "  323,\n",
       "  325,\n",
       "  326,\n",
       "  329,\n",
       "  330,\n",
       "  331,\n",
       "  333,\n",
       "  336,\n",
       "  339,\n",
       "  340,\n",
       "  342,\n",
       "  343,\n",
       "  344,\n",
       "  345,\n",
       "  347,\n",
       "  350,\n",
       "  351,\n",
       "  352,\n",
       "  353,\n",
       "  355,\n",
       "  356,\n",
       "  358,\n",
       "  359,\n",
       "  360,\n",
       "  361,\n",
       "  363,\n",
       "  364,\n",
       "  365,\n",
       "  366,\n",
       "  367,\n",
       "  370,\n",
       "  372,\n",
       "  373,\n",
       "  374,\n",
       "  378,\n",
       "  381,\n",
       "  384,\n",
       "  385,\n",
       "  386,\n",
       "  391,\n",
       "  392,\n",
       "  393,\n",
       "  401,\n",
       "  404,\n",
       "  407,\n",
       "  408,\n",
       "  409,\n",
       "  412,\n",
       "  413,\n",
       "  414,\n",
       "  415,\n",
       "  418,\n",
       "  420,\n",
       "  423,\n",
       "  424,\n",
       "  426,\n",
       "  427,\n",
       "  430,\n",
       "  431,\n",
       "  433,\n",
       "  435,\n",
       "  436,\n",
       "  438,\n",
       "  439,\n",
       "  440,\n",
       "  441,\n",
       "  447,\n",
       "  450,\n",
       "  452,\n",
       "  457,\n",
       "  458,\n",
       "  460,\n",
       "  462,\n",
       "  463,\n",
       "  467,\n",
       "  471,\n",
       "  472,\n",
       "  476,\n",
       "  478,\n",
       "  480,\n",
       "  481,\n",
       "  482,\n",
       "  486,\n",
       "  488,\n",
       "  490,\n",
       "  492,\n",
       "  494,\n",
       "  495,\n",
       "  496,\n",
       "  497,\n",
       "  500,\n",
       "  501,\n",
       "  503,\n",
       "  504,\n",
       "  505,\n",
       "  509,\n",
       "  511,\n",
       "  513,\n",
       "  514,\n",
       "  515,\n",
       "  518,\n",
       "  520,\n",
       "  521,\n",
       "  523,\n",
       "  524,\n",
       "  525,\n",
       "  527,\n",
       "  529,\n",
       "  530,\n",
       "  532,\n",
       "  533,\n",
       "  534,\n",
       "  536,\n",
       "  539,\n",
       "  540,\n",
       "  541,\n",
       "  543,\n",
       "  544,\n",
       "  546,\n",
       "  547,\n",
       "  549,\n",
       "  550,\n",
       "  551,\n",
       "  553,\n",
       "  554,\n",
       "  556,\n",
       "  557,\n",
       "  558,\n",
       "  559,\n",
       "  561,\n",
       "  562,\n",
       "  564,\n",
       "  566,\n",
       "  576,\n",
       "  578,\n",
       "  581,\n",
       "  582,\n",
       "  584,\n",
       "  585,\n",
       "  587,\n",
       "  589,\n",
       "  590,\n",
       "  592,\n",
       "  596,\n",
       "  599,\n",
       "  600,\n",
       "  602,\n",
       "  604,\n",
       "  606,\n",
       "  609,\n",
       "  610,\n",
       "  612,\n",
       "  615,\n",
       "  619,\n",
       "  621,\n",
       "  622,\n",
       "  624,\n",
       "  625,\n",
       "  626,\n",
       "  627,\n",
       "  628,\n",
       "  630,\n",
       "  631,\n",
       "  634,\n",
       "  635,\n",
       "  636,\n",
       "  639,\n",
       "  641,\n",
       "  642,\n",
       "  644,\n",
       "  646,\n",
       "  647,\n",
       "  648,\n",
       "  649,\n",
       "  650,\n",
       "  654,\n",
       "  655,\n",
       "  656,\n",
       "  658,\n",
       "  661,\n",
       "  662,\n",
       "  663,\n",
       "  664,\n",
       "  665,\n",
       "  667,\n",
       "  670,\n",
       "  674,\n",
       "  675,\n",
       "  676,\n",
       "  677,\n",
       "  678,\n",
       "  679,\n",
       "  681,\n",
       "  682,\n",
       "  686,\n",
       "  692,\n",
       "  693,\n",
       "  694,\n",
       "  696,\n",
       "  697,\n",
       "  698,\n",
       "  699,\n",
       "  701,\n",
       "  703,\n",
       "  704,\n",
       "  705,\n",
       "  706,\n",
       "  707,\n",
       "  712,\n",
       "  714,\n",
       "  717,\n",
       "  719,\n",
       "  721,\n",
       "  724,\n",
       "  726,\n",
       "  727,\n",
       "  730,\n",
       "  732,\n",
       "  734,\n",
       "  736,\n",
       "  737,\n",
       "  741,\n",
       "  744,\n",
       "  745,\n",
       "  746,\n",
       "  748,\n",
       "  749,\n",
       "  750,\n",
       "  755,\n",
       "  756,\n",
       "  759,\n",
       "  760,\n",
       "  761,\n",
       "  764,\n",
       "  765,\n",
       "  766,\n",
       "  767,\n",
       "  768,\n",
       "  769,\n",
       "  770,\n",
       "  773,\n",
       "  775,\n",
       "  776,\n",
       "  779,\n",
       "  785,\n",
       "  786,\n",
       "  787,\n",
       "  795,\n",
       "  796,\n",
       "  799,\n",
       "  800,\n",
       "  801,\n",
       "  804,\n",
       "  807,\n",
       "  808,\n",
       "  809,\n",
       "  811,\n",
       "  813,\n",
       "  814,\n",
       "  815,\n",
       "  816,\n",
       "  817,\n",
       "  822,\n",
       "  826,\n",
       "  827,\n",
       "  829,\n",
       "  830,\n",
       "  831,\n",
       "  832,\n",
       "  834,\n",
       "  837,\n",
       "  838,\n",
       "  841,\n",
       "  842,\n",
       "  843,\n",
       "  844,\n",
       "  845,\n",
       "  847,\n",
       "  849,\n",
       "  853,\n",
       "  855,\n",
       "  857,\n",
       "  860,\n",
       "  861,\n",
       "  868,\n",
       "  869,\n",
       "  873,\n",
       "  874,\n",
       "  876,\n",
       "  877,\n",
       "  879,\n",
       "  884,\n",
       "  888,\n",
       "  889,\n",
       "  890,\n",
       "  891,\n",
       "  892,\n",
       "  894,\n",
       "  895,\n",
       "  898,\n",
       "  899,\n",
       "  906,\n",
       "  907,\n",
       "  908,\n",
       "  909,\n",
       "  910,\n",
       "  913,\n",
       "  915,\n",
       "  916,\n",
       "  919,\n",
       "  920,\n",
       "  923,\n",
       "  924,\n",
       "  925,\n",
       "  926,\n",
       "  929,\n",
       "  932,\n",
       "  933,\n",
       "  935,\n",
       "  936,\n",
       "  940,\n",
       "  941,\n",
       "  942,\n",
       "  944,\n",
       "  945,\n",
       "  946,\n",
       "  947,\n",
       "  948,\n",
       "  951,\n",
       "  952,\n",
       "  954,\n",
       "  956,\n",
       "  957,\n",
       "  960,\n",
       "  962,\n",
       "  963,\n",
       "  964,\n",
       "  967,\n",
       "  975,\n",
       "  982,\n",
       "  985,\n",
       "  988,\n",
       "  989,\n",
       "  991,\n",
       "  992,\n",
       "  993,\n",
       "  996,\n",
       "  997,\n",
       "  998,\n",
       "  999,\n",
       "  1001,\n",
       "  1002,\n",
       "  1007,\n",
       "  1008,\n",
       "  1009,\n",
       "  1010,\n",
       "  1011,\n",
       "  1012,\n",
       "  1013,\n",
       "  1014,\n",
       "  1023,\n",
       "  1025,\n",
       "  1026,\n",
       "  1027,\n",
       "  1029,\n",
       "  1030,\n",
       "  1031,\n",
       "  1032,\n",
       "  1036,\n",
       "  1038,\n",
       "  1039,\n",
       "  1040,\n",
       "  1041,\n",
       "  1042,\n",
       "  1045,\n",
       "  1046,\n",
       "  1047,\n",
       "  1049,\n",
       "  1050,\n",
       "  1056,\n",
       "  1058,\n",
       "  1060,\n",
       "  1061,\n",
       "  1062,\n",
       "  1065,\n",
       "  1068,\n",
       "  1069,\n",
       "  1071,\n",
       "  1077,\n",
       "  1078,\n",
       "  1081,\n",
       "  1082,\n",
       "  1084,\n",
       "  1088,\n",
       "  1089,\n",
       "  1091,\n",
       "  1092,\n",
       "  1093,\n",
       "  1095,\n",
       "  1097,\n",
       "  1098,\n",
       "  1102,\n",
       "  1104,\n",
       "  1105,\n",
       "  1107,\n",
       "  1108,\n",
       "  1110,\n",
       "  1112,\n",
       "  1120,\n",
       "  1121,\n",
       "  1123,\n",
       "  1124,\n",
       "  1128,\n",
       "  1131,\n",
       "  1133,\n",
       "  1137,\n",
       "  1138,\n",
       "  1140,\n",
       "  1142,\n",
       "  1143,\n",
       "  1149,\n",
       "  1151,\n",
       "  1152,\n",
       "  1153,\n",
       "  1154,\n",
       "  1155,\n",
       "  1156,\n",
       "  1157,\n",
       "  1161,\n",
       "  1162,\n",
       "  1165,\n",
       "  1167,\n",
       "  1169,\n",
       "  1170,\n",
       "  1171,\n",
       "  1172,\n",
       "  1174,\n",
       "  1176,\n",
       "  1178,\n",
       "  1179,\n",
       "  1180,\n",
       "  1182,\n",
       "  1183,\n",
       "  1185,\n",
       "  1186,\n",
       "  1188,\n",
       "  1191,\n",
       "  1192,\n",
       "  1193,\n",
       "  1194,\n",
       "  1198,\n",
       "  1203,\n",
       "  1204,\n",
       "  1206,\n",
       "  1209,\n",
       "  1210,\n",
       "  1211,\n",
       "  1212,\n",
       "  1216,\n",
       "  1217,\n",
       "  1219,\n",
       "  1220,\n",
       "  1221,\n",
       "  1222,\n",
       "  1224,\n",
       "  1228,\n",
       "  1229,\n",
       "  1231,\n",
       "  1233,\n",
       "  1235,\n",
       "  1242,\n",
       "  1243,\n",
       "  1244,\n",
       "  1246,\n",
       "  1249,\n",
       "  1250,\n",
       "  1251,\n",
       "  1253,\n",
       "  1254,\n",
       "  1256,\n",
       "  1257,\n",
       "  1260,\n",
       "  1261,\n",
       "  1264,\n",
       "  1267,\n",
       "  1268,\n",
       "  1269,\n",
       "  1271,\n",
       "  1273,\n",
       "  1274,\n",
       "  1275,\n",
       "  1276,\n",
       "  1278,\n",
       "  1279,\n",
       "  1280,\n",
       "  1282,\n",
       "  1283,\n",
       "  1285,\n",
       "  1287,\n",
       "  1288,\n",
       "  1290,\n",
       "  1292,\n",
       "  1293,\n",
       "  1294,\n",
       "  1297,\n",
       "  1299,\n",
       "  1300,\n",
       "  1302,\n",
       "  1309,\n",
       "  1311,\n",
       "  1313,\n",
       "  1314,\n",
       "  1316,\n",
       "  1318,\n",
       "  1319,\n",
       "  1321,\n",
       "  1322,\n",
       "  1325,\n",
       "  1326,\n",
       "  1327,\n",
       "  1329,\n",
       "  1334,\n",
       "  1335,\n",
       "  1337,\n",
       "  1338,\n",
       "  1340,\n",
       "  1346,\n",
       "  1347,\n",
       "  1350,\n",
       "  1351,\n",
       "  1352,\n",
       "  1354,\n",
       "  1355,\n",
       "  1360,\n",
       "  1361,\n",
       "  1362,\n",
       "  1365,\n",
       "  1368,\n",
       "  1370,\n",
       "  1371,\n",
       "  1372,\n",
       "  1374,\n",
       "  1375,\n",
       "  1378,\n",
       "  1379,\n",
       "  1381,\n",
       "  1383,\n",
       "  1384,\n",
       "  1387,\n",
       "  1388,\n",
       "  1394,\n",
       "  1397,\n",
       "  1398,\n",
       "  1399,\n",
       "  1401,\n",
       "  1405,\n",
       "  1406,\n",
       "  1409,\n",
       "  1410,\n",
       "  1413,\n",
       "  1415,\n",
       "  1417,\n",
       "  1418,\n",
       "  1419,\n",
       "  1420,\n",
       "  1421,\n",
       "  1422,\n",
       "  1424,\n",
       "  1425,\n",
       "  1427,\n",
       "  1429,\n",
       "  1430,\n",
       "  1431,\n",
       "  1438,\n",
       "  1439,\n",
       "  1440,\n",
       "  1441,\n",
       "  1444,\n",
       "  1446,\n",
       "  1447,\n",
       "  1448,\n",
       "  1450,\n",
       "  1457,\n",
       "  1458,\n",
       "  1459,\n",
       "  1460})"
      ]
     },
     "execution_count": 9,
     "metadata": {},
     "output_type": "execute_result"
    }
   ],
   "source": [
    "# Delete Outliers in continuous columns(we will delete the rows which contain outliers)\n",
    "\n",
    "def outlier_detect_IQR(df: pd.DataFrame, continuous_cols: list):\n",
    "    outlier_indexs = set()\n",
    "    outlier_value_summary = []\n",
    "\n",
    "    for i in continuous_cols:\n",
    "        q1 = df[i].quantile(0.25)\n",
    "        q3 = df[i].quantile(0.75)\n",
    "        IQR = q3 - q1\n",
    "        lower = q1 - 1.5*IQR\n",
    "        upper = q3 + 1.5*IQR# Outliers are out of q3 + 1.5IQR and q1 - 1.5IQR\n",
    "        \n",
    "        mask = ((df[i] < lower) | (df[i] > upper))\n",
    "        outlier_index = df.index[mask]\n",
    "        outlier_indexs.update(outlier_index)\n",
    "\n",
    "        outlier_value_summary.append({\n",
    "        'column': i,\n",
    "        'lower': round(q1,2),\n",
    "        'upper': round(q3,2),\n",
    "        'n_outliers': sum(mask)\n",
    "\n",
    "    })\n",
    "    outlier_value_summary = pd.DataFrame(outlier_value_summary)\n",
    "    outlier_value_summary = outlier_value_summary.sort_values(by = 'n_outliers', ascending = False)\n",
    "    return outlier_value_summary, outlier_indexs\n",
    "\n",
    "outlier_detect_IQR(x, continuous_num_cols)"
   ]
  },
  {
   "cell_type": "code",
   "execution_count": 10,
   "id": "d7e9b214",
   "metadata": {},
   "outputs": [
    {
     "data": {
      "image/png": "[encoded data removed]",
      "text/plain": [
       "<Figure size 1300x1700 with 5 Axes>"
      ]
     },
     "metadata": {},
     "output_type": "display_data"
    }
   ],
   "source": [
    "# by above and our experience: we will focus on--> LotArea, GrLivArea, TotalBsmtSF, LotFrontage, GarageArea\n",
    "# （lower and upper != 0 and related to area）\n",
    "cols_to_check = ['LotArea', 'GrLivArea', 'TotalBsmtSF', 'LotFrontage', 'GarageArea']\n",
    "\n",
    "plt.figure(figsize=(13, 17))\n",
    "\n",
    "for i, col in enumerate(cols_to_check, 1):\n",
    "    plt.subplot(3, 2, i)\n",
    "    sns.scatterplot(x = x[col], y = y, s = 45, alpha=1, color = 'green', edgecolor = 'k')\n",
    "    plt.title(f'SalePrice vs {col}', fontsize=14)\n",
    "    plt.xlabel(col, fontsize=12)\n",
    "    plt.ylabel('SalePrice', fontsize=12)\n",
    "\n",
    "plt.tight_layout()\n",
    "plt.show()"
   ]
  },
  {
   "cell_type": "code",
   "execution_count": 11,
   "id": "ccc5ce5a",
   "metadata": {},
   "outputs": [
    {
     "data": {
      "text/plain": [
       "\"outlier_rules = {\\n    'LotArea': 100000,\\n    'GrLivArea': 4000,     \\n    'TotalBsmtSF': 5000,\\n    'LotFrontage': 200,\\n    'GarageArea': 1200\\n}\\nfor col, threshold in outlier_rules.items():\\n    if col in x.columns:\\n        drop_idx = x[x[col] > threshold].index\\n        x = x.drop(index=drop_idx)\\n        y = y.drop(index=drop_idx)\\n\\n(x['LotArea'] > 100000).sum()\""
      ]
     },
     "execution_count": 11,
     "metadata": {},
     "output_type": "execute_result"
    }
   ],
   "source": [
    "# Handle Outliers (Hard Threshold)\n",
    "'''outlier_rules = {\n",
    "    'LotArea': 100000,\n",
    "    'GrLivArea': 4000,     \n",
    "    'TotalBsmtSF': 5000,\n",
    "    'LotFrontage': 200,\n",
    "    'GarageArea': 1200\n",
    "}\n",
    "for col, threshold in outlier_rules.items():\n",
    "    if col in x.columns:\n",
    "        drop_idx = x[x[col] > threshold].index\n",
    "        x = x.drop(index=drop_idx)\n",
    "        y = y.drop(index=drop_idx)\n",
    "\n",
    "(x['LotArea'] > 100000).sum()'''"
   ]
  },
  {
   "cell_type": "markdown",
   "id": "d48b4cdd",
   "metadata": {},
   "source": [
    "# Ordinal_mapping"
   ]
  },
  {
   "cell_type": "code",
   "execution_count": 12,
   "id": "57bdbcd7",
   "metadata": {},
   "outputs": [],
   "source": [
    "ordinal_map={'Ex':5,'Gd':4,'TA':3,'Fa':2,'Po':1,'NA':0}\n",
    "bsmtFinType_map={'GLQ':6,'ALQ':5,'BLQ':4,'Rec':3,'LwQ':2,'Unf':1,'NA':0}\n",
    "bsmtExpo_map={'Gd':4,'Av':3,'Mn':2,'No':1,'NA':0}\n",
    "\n",
    "ord_col=['ExterQual','ExterCond','BsmtQual','BsmtCond',\n",
    "         'HeatingQC','KitchenQual','GarageQual','GarageCond']\n",
    "\n",
    "fin_col=['BsmtFinType1','BsmtFinType2']\n",
    "expo_col = ['BsmtExposure']\n",
    "\n",
    "def apply_ordinal(train_df, test_df, cols, mapping, fill=0, dtype='int16'):\n",
    "    for col in cols:\n",
    "        if col in train_df.columns:\n",
    "            train_df[col] = train_df[col].map(mapping).fillna(fill).astype(dtype)\n",
    "        if col in test_df.columns:\n",
    "            test_df[col] = test_df[col].map(mapping).fillna(fill).astype(dtype)\n",
    "\n",
    "apply_ordinal(x, test_df_copy, ord_col, ordinal_map)\n",
    "apply_ordinal(x, test_df_copy, fin_col, bsmtFinType_map)\n",
    "apply_ordinal(x, test_df_copy, expo_col, bsmtExpo_map)\n",
    "\n"
   ]
  },
  {
   "cell_type": "code",
   "execution_count": 13,
   "id": "8644da4b",
   "metadata": {},
   "outputs": [
    {
     "data": {
      "text/plain": [
       "Id\n",
       "1461    1\n",
       "1462    1\n",
       "1463    1\n",
       "1464    1\n",
       "1465    1\n",
       "       ..\n",
       "2915    1\n",
       "2916    1\n",
       "2917    1\n",
       "2918    3\n",
       "2919    3\n",
       "Name: BsmtExposure, Length: 1459, dtype: int16"
      ]
     },
     "execution_count": 13,
     "metadata": {},
     "output_type": "execute_result"
    }
   ],
   "source": [
    "test_df_copy['BsmtExposure']\n",
    "# check"
   ]
  },
  {
   "cell_type": "markdown",
   "id": "c8ab306a",
   "metadata": {},
   "source": [
    "# Splitting & Columnstransformer"
   ]
  },
  {
   "cell_type": "code",
   "execution_count": 14,
   "id": "9350ab92",
   "metadata": {},
   "outputs": [],
   "source": [
    "from sklearn.pipeline import Pipeline\n",
    "from sklearn.model_selection import train_test_split\n",
    "from sklearn.preprocessing import OneHotEncoder\n",
    "from sklearn.impute import SimpleImputer\n",
    "from sklearn.compose import ColumnTransformer\n",
    "import numpy as np\n",
    "\n",
    "x_train, x_valid, y_train, y_valid = train_test_split(x, y, test_size = 0.2,random_state = 35)\n",
    "\n",
    "num_transformer = SimpleImputer(strategy = 'mean')\n",
    "\n",
    "cat_transformer = Pipeline(steps = [('cat_null', SimpleImputer(strategy = 'most_frequent')),\n",
    "                                    ('cat_onehot', OneHotEncoder(handle_unknown = 'ignore'))])"
   ]
  },
  {
   "cell_type": "code",
   "execution_count": 15,
   "id": "d83ca347",
   "metadata": {},
   "outputs": [],
   "source": [
    "num, cat = split_num_cat(x_train)\n",
    "\n",
    "cols_transformer = ColumnTransformer(transformers = [('num_transformer', num_transformer, num),\n",
    "                                                    ('cat_transformer', cat_transformer, cat)])"
   ]
  },
  {
   "cell_type": "markdown",
   "id": "ea69effb",
   "metadata": {},
   "source": [
    "# Find our model parameters"
   ]
  },
  {
   "cell_type": "code",
   "execution_count": 16,
   "id": "3c71994e",
   "metadata": {},
   "outputs": [
    {
     "name": "stderr",
     "output_type": "stream",
     "text": [
      "/Library/Frameworks/Python.framework/Versions/3.12/lib/python3.12/site-packages/tqdm/auto.py:21: TqdmWarning: IProgress not found. Please update jupyter and ipywidgets. See https://ipywidgets.readthedocs.io/en/stable/user_install.html\n",
      "  from .autonotebook import tqdm as notebook_tqdm\n",
      "[I 2025-10-21 12:56:28,188] A new study created in memory with name: house_xgb_opt\n",
      "Best trial: 5. Best value: 0.200116:   2%|▏         | 1/50 [00:02<02:26,  2.99s/it]"
     ]
    },
    {
     "name": "stdout",
     "output_type": "stream",
     "text": [
      "[I 2025-10-21 12:56:31,179] Trial 5 finished with value: 0.2001161920534144 and parameters: {'n_estimators': 1227, 'learning_rate': 0.016373453539186258, 'max_depth': 8, 'min_child_weight': 1, 'subsample': 0.6567031735547482, 'colsample_bytree': 0.842252443695644, 'gamma': 4.585275343093626, 'colsample_bynode': 0.9028912122124119, 'reg_alpha': 0.025713681888496653, 'reg_lambda': 2.9490576314234564, 'max_bin': 220}. Best is trial 5 with value: 0.2001161920534144.\n"
     ]
    },
    {
     "name": "stderr",
     "output_type": "stream",
     "text": [
      "Best trial: 2. Best value: 0.181887:   6%|▌         | 3/50 [00:03<00:39,  1.19it/s]"
     ]
    },
    {
     "name": "stdout",
     "output_type": "stream",
     "text": [
      "[I 2025-10-21 12:56:31,556] Trial 2 finished with value: 0.1818868898757181 and parameters: {'n_estimators': 1236, 'learning_rate': 0.016733001388435212, 'max_depth': 7, 'min_child_weight': 6, 'subsample': 0.8737313029463356, 'colsample_bytree': 0.9909352726926526, 'gamma': 2.9004383742372966, 'colsample_bynode': 0.7388673638639975, 'reg_alpha': 0.620821921948403, 'reg_lambda': 2.9244830275449476, 'max_bin': 255}. Best is trial 2 with value: 0.1818868898757181.\n",
      "[I 2025-10-21 12:56:31,664] Trial 7 finished with value: 0.18644936281469135 and parameters: {'n_estimators': 1343, 'learning_rate': 0.023979953428050503, 'max_depth': 10, 'min_child_weight': 7, 'subsample': 0.8026624310107087, 'colsample_bytree': 0.9075902347535776, 'gamma': 3.3882202374118853, 'colsample_bynode': 0.9999276231585921, 'reg_alpha': 0.46451137332550463, 'reg_lambda': 2.261210497384396, 'max_bin': 237}. Best is trial 2 with value: 0.1818868898757181.\n"
     ]
    },
    {
     "name": "stderr",
     "output_type": "stream",
     "text": [
      "Best trial: 6. Best value: 0.143319:  10%|█         | 5/50 [00:03<00:19,  2.35it/s]"
     ]
    },
    {
     "name": "stdout",
     "output_type": "stream",
     "text": [
      "[I 2025-10-21 12:56:31,843] Trial 3 finished with value: 0.1775622658528862 and parameters: {'n_estimators': 1606, 'learning_rate': 0.022009222413014555, 'max_depth': 5, 'min_child_weight': 7, 'subsample': 0.8749140122892297, 'colsample_bytree': 0.6670181198468773, 'gamma': 2.560650185434648, 'colsample_bynode': 0.7648274507285001, 'reg_alpha': 0.6769433089102423, 'reg_lambda': 1.481213565787711, 'max_bin': 184}. Best is trial 3 with value: 0.1775622658528862.\n",
      "[I 2025-10-21 12:56:32,000] Trial 6 finished with value: 0.1433190426220196 and parameters: {'n_estimators': 1385, 'learning_rate': 0.022968151456864153, 'max_depth': 4, 'min_child_weight': 5, 'subsample': 0.944167786502953, 'colsample_bytree': 0.8287279952831894, 'gamma': 0.419362212677864, 'colsample_bynode': 0.6276387997783849, 'reg_alpha': 0.019780536085923894, 'reg_lambda': 0.7654957554075086, 'max_bin': 235}. Best is trial 6 with value: 0.1433190426220196.\n",
      "[I 2025-10-21 12:56:32,002] Trial 4 finished with value: 0.1625022603617684 and parameters: {'n_estimators': 1407, 'learning_rate': 0.012828795583668434, 'max_depth': 6, 'min_child_weight': 3, 'subsample': 0.6351696667664621, 'colsample_bytree': 0.7250589788539785, 'gamma': 1.4402656566129242, 'colsample_bynode': 0.8452802877566368, 'reg_alpha': 0.41478021394491815, 'reg_lambda': 0.9641501936119613, 'max_bin': 235}. Best is trial 6 with value: 0.1433190426220196.\n"
     ]
    },
    {
     "name": "stderr",
     "output_type": "stream",
     "text": [
      "Best trial: 1. Best value: 0.14007:  14%|█▍        | 7/50 [00:04<00:16,  2.64it/s] "
     ]
    },
    {
     "name": "stdout",
     "output_type": "stream",
     "text": [
      "[I 2025-10-21 12:56:32,668] Trial 1 finished with value: 0.14007030726327213 and parameters: {'n_estimators': 1681, 'learning_rate': 0.036095253133610124, 'max_depth': 10, 'min_child_weight': 8, 'subsample': 0.7216956990634573, 'colsample_bytree': 0.7933744606623319, 'gamma': 0.288833675786333, 'colsample_bynode': 0.9200989518916604, 'reg_alpha': 0.4214223499233475, 'reg_lambda': 2.6131407014659005, 'max_bin': 199}. Best is trial 1 with value: 0.14007030726327213.\n"
     ]
    },
    {
     "name": "stderr",
     "output_type": "stream",
     "text": [
      "Best trial: 1. Best value: 0.14007:  16%|█▌        | 8/50 [00:04<00:15,  2.67it/s]"
     ]
    },
    {
     "name": "stdout",
     "output_type": "stream",
     "text": [
      "[I 2025-10-21 12:56:33,031] Trial 0 finished with value: 0.15364780916650692 and parameters: {'n_estimators': 1940, 'learning_rate': 0.02158462035798111, 'max_depth': 4, 'min_child_weight': 4, 'subsample': 0.8210570018996698, 'colsample_bytree': 0.8744767031855293, 'gamma': 0.8551690483206636, 'colsample_bynode': 0.6133789844732159, 'reg_alpha': 0.7984486735181966, 'reg_lambda': 2.6180653358233203, 'max_bin': 200}. Best is trial 1 with value: 0.14007030726327213.\n"
     ]
    },
    {
     "name": "stderr",
     "output_type": "stream",
     "text": [
      "Best trial: 1. Best value: 0.14007:  18%|█▊        | 9/50 [00:07<00:35,  1.17it/s]"
     ]
    },
    {
     "name": "stdout",
     "output_type": "stream",
     "text": [
      "[I 2025-10-21 12:56:35,154] Trial 13 finished with value: 0.1538052033824575 and parameters: {'n_estimators': 1209, 'learning_rate': 0.02428768541316563, 'max_depth': 6, 'min_child_weight': 3, 'subsample': 0.8055839807053867, 'colsample_bytree': 0.8833095778152754, 'gamma': 1.0605394889649056, 'colsample_bynode': 0.7118048161126226, 'reg_alpha': 0.010692092079799487, 'reg_lambda': 1.9548202614181056, 'max_bin': 249}. Best is trial 1 with value: 0.14007030726327213.\n",
      "[I 2025-10-21 12:56:35,232] Trial 11 finished with value: 0.19605039310668265 and parameters: {'n_estimators': 1606, 'learning_rate': 0.026635444638306395, 'max_depth': 7, 'min_child_weight': 1, 'subsample': 0.633980859868691, 'colsample_bytree': 0.6711814738495337, 'gamma': 4.03494522497592, 'colsample_bynode': 0.680081992424923, 'reg_alpha': 0.7972218087806481, 'reg_lambda': 0.7164771440627553, 'max_bin': 212}. Best is trial 1 with value: 0.14007030726327213.\n"
     ]
    },
    {
     "name": "stderr",
     "output_type": "stream",
     "text": [
      "Best trial: 1. Best value: 0.14007:  22%|██▏       | 11/50 [00:08<00:27,  1.40it/s]"
     ]
    },
    {
     "name": "stdout",
     "output_type": "stream",
     "text": [
      "[I 2025-10-21 12:56:36,218] Trial 8 finished with value: 0.1816921850936266 and parameters: {'n_estimators': 2370, 'learning_rate': 0.02382841040705797, 'max_depth': 7, 'min_child_weight': 7, 'subsample': 0.7469021719466875, 'colsample_bytree': 0.9708230869412044, 'gamma': 2.995725721904888, 'colsample_bynode': 0.7964503866557208, 'reg_alpha': 0.4743549514872779, 'reg_lambda': 2.744685021817227, 'max_bin': 182}. Best is trial 1 with value: 0.14007030726327213.\n"
     ]
    },
    {
     "name": "stderr",
     "output_type": "stream",
     "text": [
      "Best trial: 1. Best value: 0.14007:  24%|██▍       | 12/50 [00:08<00:25,  1.47it/s]"
     ]
    },
    {
     "name": "stdout",
     "output_type": "stream",
     "text": [
      "[I 2025-10-21 12:56:36,788] Trial 9 finished with value: 0.16558859727496386 and parameters: {'n_estimators': 2535, 'learning_rate': 0.03611100931909164, 'max_depth': 9, 'min_child_weight': 2, 'subsample': 0.8030699633444399, 'colsample_bytree': 0.8066497795225351, 'gamma': 1.6822143927151618, 'colsample_bynode': 0.6680947871315063, 'reg_alpha': 0.8250066478692637, 'reg_lambda': 0.7065673172145424, 'max_bin': 200}. Best is trial 1 with value: 0.14007030726327213.\n",
      "[I 2025-10-21 12:56:36,790] Trial 10 finished with value: 0.16455800598043374 and parameters: {'n_estimators': 1765, 'learning_rate': 0.009545338998675537, 'max_depth': 4, 'min_child_weight': 2, 'subsample': 0.6890407458183362, 'colsample_bytree': 0.8309626440311484, 'gamma': 1.4494164607799704, 'colsample_bynode': 0.8978474080342874, 'reg_alpha': 0.867509759077417, 'reg_lambda': 2.877966919623911, 'max_bin': 204}. Best is trial 1 with value: 0.14007030726327213.\n"
     ]
    },
    {
     "name": "stderr",
     "output_type": "stream",
     "text": [
      "Best trial: 12. Best value: 0.13535:  28%|██▊       | 14/50 [00:09<00:19,  1.89it/s]"
     ]
    },
    {
     "name": "stdout",
     "output_type": "stream",
     "text": [
      "[I 2025-10-21 12:56:37,409] Trial 12 finished with value: 0.13535004479565657 and parameters: {'n_estimators': 2371, 'learning_rate': 0.023278514569601765, 'max_depth': 4, 'min_child_weight': 2, 'subsample': 0.7962593326680872, 'colsample_bytree': 0.651765656868147, 'gamma': 0.22375338058149286, 'colsample_bynode': 0.9474276344524357, 'reg_alpha': 0.03224001317630498, 'reg_lambda': 1.2749825748201224, 'max_bin': 198}. Best is trial 12 with value: 0.13535004479565657.\n"
     ]
    },
    {
     "name": "stderr",
     "output_type": "stream",
     "text": [
      "Best trial: 12. Best value: 0.13535:  32%|███▏      | 16/50 [00:09<00:13,  2.45it/s]"
     ]
    },
    {
     "name": "stdout",
     "output_type": "stream",
     "text": [
      "[I 2025-10-21 12:56:37,754] Trial 15 finished with value: 0.19356794308373332 and parameters: {'n_estimators': 1899, 'learning_rate': 0.008402024188461752, 'max_depth': 7, 'min_child_weight': 2, 'subsample': 0.8640705100548031, 'colsample_bytree': 0.9403237382447747, 'gamma': 3.949951835440512, 'colsample_bynode': 0.7894943183388408, 'reg_alpha': 0.7428340395674511, 'reg_lambda': 1.9690431981999552, 'max_bin': 201}. Best is trial 12 with value: 0.13535004479565657.\n",
      "[I 2025-10-21 12:56:37,911] Trial 16 finished with value: 0.18522559454576523 and parameters: {'n_estimators': 1319, 'learning_rate': 0.017744921981837226, 'max_depth': 4, 'min_child_weight': 2, 'subsample': 0.8733010609173275, 'colsample_bytree': 0.8829214845647122, 'gamma': 3.293234662893887, 'colsample_bynode': 0.6987468714877545, 'reg_alpha': 0.4999463742694795, 'reg_lambda': 1.2444911803761882, 'max_bin': 221}. Best is trial 12 with value: 0.13535004479565657.\n"
     ]
    },
    {
     "name": "stderr",
     "output_type": "stream",
     "text": [
      "Best trial: 12. Best value: 0.13535:  34%|███▍      | 17/50 [00:11<00:21,  1.56it/s]"
     ]
    },
    {
     "name": "stdout",
     "output_type": "stream",
     "text": [
      "[I 2025-10-21 12:56:39,231] Trial 14 finished with value: 0.19437244850318522 and parameters: {'n_estimators': 2950, 'learning_rate': 0.01941450197064765, 'max_depth': 7, 'min_child_weight': 5, 'subsample': 0.7186356421186583, 'colsample_bytree': 0.9226593265343679, 'gamma': 4.296609934762535, 'colsample_bynode': 0.9360332855136337, 'reg_alpha': 0.11785631448279177, 'reg_lambda': 2.709604128626252, 'max_bin': 251}. Best is trial 12 with value: 0.13535004479565657.\n"
     ]
    },
    {
     "name": "stderr",
     "output_type": "stream",
     "text": [
      "Best trial: 12. Best value: 0.13535:  36%|███▌      | 18/50 [00:13<00:32,  1.02s/it]"
     ]
    },
    {
     "name": "stdout",
     "output_type": "stream",
     "text": [
      "[I 2025-10-21 12:56:41,282] Trial 17 finished with value: 0.1642987512599392 and parameters: {'n_estimators': 3034, 'learning_rate': 0.03875319697837275, 'max_depth': 10, 'min_child_weight': 8, 'subsample': 0.7129963730279564, 'colsample_bytree': 0.7546591122591884, 'gamma': 1.7476452583286166, 'colsample_bynode': 0.9685785036405921, 'reg_alpha': 0.3198731700813226, 'reg_lambda': 1.5056523844555298, 'max_bin': 183}. Best is trial 12 with value: 0.13535004479565657.\n"
     ]
    },
    {
     "name": "stderr",
     "output_type": "stream",
     "text": [
      "Best trial: 12. Best value: 0.13535:  38%|███▊      | 19/50 [00:16<00:50,  1.62s/it]"
     ]
    },
    {
     "name": "stdout",
     "output_type": "stream",
     "text": [
      "[I 2025-10-21 12:56:44,464] Trial 18 finished with value: 0.13753646247635748 and parameters: {'n_estimators': 3554, 'learning_rate': 0.03777276154432181, 'max_depth': 10, 'min_child_weight': 8, 'subsample': 0.9369401300718421, 'colsample_bytree': 0.7773166599539422, 'gamma': 0.11057624902505381, 'colsample_bynode': 0.9301034332871666, 'reg_alpha': 0.238915247214233, 'reg_lambda': 1.6018226408524687, 'max_bin': 202}. Best is trial 12 with value: 0.13535004479565657.\n",
      "[I 2025-10-21 12:56:44,467] Trial 22 finished with value: 0.1360510944893986 and parameters: {'n_estimators': 3345, 'learning_rate': 0.033373169085828484, 'max_depth': 10, 'min_child_weight': 8, 'subsample': 0.7348589824012726, 'colsample_bytree': 0.6059174811426633, 'gamma': 0.22390408392998842, 'colsample_bynode': 0.9939701707103986, 'reg_alpha': 0.2285542963871692, 'reg_lambda': 1.4033725464861069, 'max_bin': 190}. Best is trial 12 with value: 0.13535004479565657.\n"
     ]
    },
    {
     "name": "stderr",
     "output_type": "stream",
     "text": [
      "Best trial: 12. Best value: 0.13535:  42%|████▏     | 21/50 [00:17<00:30,  1.07s/it]"
     ]
    },
    {
     "name": "stdout",
     "output_type": "stream",
     "text": [
      "[I 2025-10-21 12:56:45,206] Trial 20 finished with value: 0.13628058415655905 and parameters: {'n_estimators': 3091, 'learning_rate': 0.0393689136603251, 'max_depth': 10, 'min_child_weight': 5, 'subsample': 0.9373714115661167, 'colsample_bytree': 0.7645041773365411, 'gamma': 0.045636626944137226, 'colsample_bynode': 0.988363856686534, 'reg_alpha': 0.23964866242035804, 'reg_lambda': 1.3312433180549883, 'max_bin': 226}. Best is trial 12 with value: 0.13535004479565657.\n"
     ]
    },
    {
     "name": "stderr",
     "output_type": "stream",
     "text": [
      "Best trial: 21. Best value: 0.131805:  44%|████▍     | 22/50 [00:17<00:24,  1.14it/s]"
     ]
    },
    {
     "name": "stdout",
     "output_type": "stream",
     "text": [
      "[I 2025-10-21 12:56:45,471] Trial 21 finished with value: 0.13180456758432524 and parameters: {'n_estimators': 3164, 'learning_rate': 0.03363408264793066, 'max_depth': 10, 'min_child_weight': 8, 'subsample': 0.7358800334312079, 'colsample_bytree': 0.7431094986795469, 'gamma': 0.05755759086778439, 'colsample_bynode': 0.9996160366311387, 'reg_alpha': 0.2208555884355486, 'reg_lambda': 1.3521168828667633, 'max_bin': 193}. Best is trial 21 with value: 0.13180456758432524.\n"
     ]
    },
    {
     "name": "stderr",
     "output_type": "stream",
     "text": [
      "Best trial: 23. Best value: 0.128785:  48%|████▊     | 24/50 [00:19<00:24,  1.06it/s]"
     ]
    },
    {
     "name": "stdout",
     "output_type": "stream",
     "text": [
      "[I 2025-10-21 12:56:47,672] Trial 23 finished with value: 0.1287849053379489 and parameters: {'n_estimators': 3373, 'learning_rate': 0.03161983240300927, 'max_depth': 10, 'min_child_weight': 8, 'subsample': 0.7350055182548527, 'colsample_bytree': 0.6049906096723683, 'gamma': 0.027204454518059473, 'colsample_bynode': 0.9871502349583069, 'reg_alpha': 0.2743513913359844, 'reg_lambda': 1.510779075224781, 'max_bin': 193}. Best is trial 23 with value: 0.1287849053379489.\n",
      "[I 2025-10-21 12:56:47,863] Trial 19 finished with value: 0.13515461582547197 and parameters: {'n_estimators': 2044, 'learning_rate': 0.03974167453284537, 'max_depth': 10, 'min_child_weight': 5, 'subsample': 0.9425623120946011, 'colsample_bytree': 0.7504690686273198, 'gamma': 0.002861415456784755, 'colsample_bynode': 0.9722160692434382, 'reg_alpha': 0.2701560672534398, 'reg_lambda': 1.3229567030775071, 'max_bin': 223}. Best is trial 23 with value: 0.1287849053379489.\n"
     ]
    },
    {
     "name": "stderr",
     "output_type": "stream",
     "text": [
      "Best trial: 23. Best value: 0.128785:  50%|█████     | 25/50 [00:20<00:20,  1.25it/s]"
     ]
    },
    {
     "name": "stdout",
     "output_type": "stream",
     "text": [
      "[I 2025-10-21 12:56:48,294] Trial 24 finished with value: 0.13016484604733153 and parameters: {'n_estimators': 3333, 'learning_rate': 0.0305351637197006, 'max_depth': 10, 'min_child_weight': 8, 'subsample': 0.7507018937474553, 'colsample_bytree': 0.6159019133429726, 'gamma': 0.04733121227656045, 'colsample_bynode': 0.9874042073556593, 'reg_alpha': 0.3106259832387243, 'reg_lambda': 1.3691827524580595, 'max_bin': 190}. Best is trial 23 with value: 0.1287849053379489.\n"
     ]
    },
    {
     "name": "stderr",
     "output_type": "stream",
     "text": [
      "Best trial: 23. Best value: 0.128785:  54%|█████▍    | 27/50 [00:21<00:13,  1.67it/s]"
     ]
    },
    {
     "name": "stdout",
     "output_type": "stream",
     "text": [
      "[I 2025-10-21 12:56:49,094] Trial 25 finished with value: 0.13276425221938618 and parameters: {'n_estimators': 3530, 'learning_rate': 0.030484795759220095, 'max_depth': 9, 'min_child_weight': 4, 'subsample': 0.7502534932499851, 'colsample_bytree': 0.6316686488083565, 'gamma': 0.15650674198820774, 'colsample_bynode': 0.846523550797232, 'reg_alpha': 0.2250156336950977, 'reg_lambda': 2.330122706599354, 'max_bin': 193}. Best is trial 23 with value: 0.1287849053379489.\n",
      "[I 2025-10-21 12:56:49,199] Trial 27 finished with value: 0.16893879733338432 and parameters: {'n_estimators': 2274, 'learning_rate': 0.030331117338450134, 'max_depth': 9, 'min_child_weight': 4, 'subsample': 0.7710084632567795, 'colsample_bytree': 0.6002576494843233, 'gamma': 2.101880486720013, 'colsample_bynode': 0.8395624538980364, 'reg_alpha': 0.16690245635676576, 'reg_lambda': 1.106536805657331, 'max_bin': 190}. Best is trial 23 with value: 0.1287849053379489.\n",
      "[I 2025-10-21 12:56:49,222] Trial 26 finished with value: 0.1692338436345852 and parameters: {'n_estimators': 2299, 'learning_rate': 0.031545924873809264, 'max_depth': 9, 'min_child_weight': 4, 'subsample': 0.7551841463687854, 'colsample_bytree': 0.6119113558367792, 'gamma': 2.1697136045245666, 'colsample_bynode': 0.8615377240511324, 'reg_alpha': 0.19493509652296936, 'reg_lambda': 1.2191874915448029, 'max_bin': 191}. Best is trial 23 with value: 0.1287849053379489.\n"
     ]
    },
    {
     "name": "stderr",
     "output_type": "stream",
     "text": [
      "Best trial: 23. Best value: 0.128785:  58%|█████▊    | 29/50 [00:24<00:23,  1.10s/it]"
     ]
    },
    {
     "name": "stdout",
     "output_type": "stream",
     "text": [
      "[I 2025-10-21 12:56:52,627] Trial 28 finished with value: 0.15045770135162023 and parameters: {'n_estimators': 3541, 'learning_rate': 0.03294301618772441, 'max_depth': 9, 'min_child_weight': 4, 'subsample': 0.7770824208553927, 'colsample_bytree': 0.6164821237489899, 'gamma': 0.8541680822461655, 'colsample_bynode': 0.9876716828859043, 'reg_alpha': 0.20660907111654125, 'reg_lambda': 1.1581081217400968, 'max_bin': 190}. Best is trial 23 with value: 0.1287849053379489.\n",
      "[I 2025-10-21 12:56:52,646] Trial 29 finished with value: 0.14848136242728155 and parameters: {'n_estimators': 3600, 'learning_rate': 0.03095625365792906, 'max_depth': 9, 'min_child_weight': 6, 'subsample': 0.7597098553739492, 'colsample_bytree': 0.6010252412711465, 'gamma': 0.749145544713681, 'colsample_bynode': 0.8664372685692722, 'reg_alpha': 0.19894371585115608, 'reg_lambda': 1.1128089071176663, 'max_bin': 192}. Best is trial 23 with value: 0.1287849053379489.\n"
     ]
    },
    {
     "name": "stderr",
     "output_type": "stream",
     "text": [
      "Best trial: 23. Best value: 0.128785:  62%|██████▏   | 31/50 [00:25<00:15,  1.25it/s]"
     ]
    },
    {
     "name": "stdout",
     "output_type": "stream",
     "text": [
      "[I 2025-10-21 12:56:53,296] Trial 30 finished with value: 0.15008407198132812 and parameters: {'n_estimators': 2390, 'learning_rate': 0.031504188841984464, 'max_depth': 9, 'min_child_weight': 6, 'subsample': 0.7657136556235046, 'colsample_bytree': 0.6012409592288515, 'gamma': 0.664558941194717, 'colsample_bynode': 0.8434180188706225, 'reg_alpha': 0.9898217672702806, 'reg_lambda': 1.1155504276624264, 'max_bin': 209}. Best is trial 23 with value: 0.1287849053379489.\n"
     ]
    },
    {
     "name": "stderr",
     "output_type": "stream",
     "text": [
      "Best trial: 23. Best value: 0.128785:  64%|██████▍   | 32/50 [00:26<00:15,  1.19it/s]"
     ]
    },
    {
     "name": "stdout",
     "output_type": "stream",
     "text": [
      "[I 2025-10-21 12:56:54,280] Trial 31 finished with value: 0.1511028576919014 and parameters: {'n_estimators': 2711, 'learning_rate': 0.03036965996737154, 'max_depth': 9, 'min_child_weight': 6, 'subsample': 0.7617895432623427, 'colsample_bytree': 0.717478947300415, 'gamma': 0.7343672266521827, 'colsample_bynode': 0.8712383491195907, 'reg_alpha': 0.9959870620496248, 'reg_lambda': 1.1224310431176951, 'max_bin': 212}. Best is trial 23 with value: 0.1287849053379489.\n"
     ]
    },
    {
     "name": "stderr",
     "output_type": "stream",
     "text": [
      "Best trial: 23. Best value: 0.128785:  66%|██████▌   | 33/50 [00:26<00:14,  1.20it/s]"
     ]
    },
    {
     "name": "stdout",
     "output_type": "stream",
     "text": [
      "[I 2025-10-21 12:56:55,073] Trial 32 finished with value: 0.14746898662387528 and parameters: {'n_estimators': 3296, 'learning_rate': 0.030338125160713273, 'max_depth': 9, 'min_child_weight': 6, 'subsample': 0.6859912739036964, 'colsample_bytree': 0.6115155684460051, 'gamma': 0.6884389018022397, 'colsample_bynode': 0.8597435776013093, 'reg_alpha': 0.33912258877912044, 'reg_lambda': 1.0644068274820435, 'max_bin': 190}. Best is trial 23 with value: 0.1287849053379489.\n",
      "[I 2025-10-21 12:56:55,169] Trial 34 finished with value: 0.1514779338897762 and parameters: {'n_estimators': 2741, 'learning_rate': 0.028262480572776295, 'max_depth': 9, 'min_child_weight': 6, 'subsample': 0.677539922164927, 'colsample_bytree': 0.7007650393080029, 'gamma': 0.8791532671411353, 'colsample_bynode': 0.8846437589958414, 'reg_alpha': 0.3419119548927495, 'reg_lambda': 1.7248035896961535, 'max_bin': 212}. Best is trial 23 with value: 0.1287849053379489.\n"
     ]
    },
    {
     "name": "stderr",
     "output_type": "stream",
     "text": [
      "Best trial: 23. Best value: 0.128785:  70%|███████   | 35/50 [00:27<00:08,  1.80it/s]"
     ]
    },
    {
     "name": "stdout",
     "output_type": "stream",
     "text": [
      "[I 2025-10-21 12:56:55,382] Trial 35 finished with value: 0.15446568382254253 and parameters: {'n_estimators': 2802, 'learning_rate': 0.027402173533326052, 'max_depth': 8, 'min_child_weight': 6, 'subsample': 0.6839955568998028, 'colsample_bytree': 0.7015228174096217, 'gamma': 0.9477625084372001, 'colsample_bynode': 0.8825804090059599, 'reg_alpha': 0.9921419001972736, 'reg_lambda': 1.7850840222107232, 'max_bin': 212}. Best is trial 23 with value: 0.1287849053379489.\n"
     ]
    },
    {
     "name": "stderr",
     "output_type": "stream",
     "text": [
      "Best trial: 23. Best value: 0.128785:  72%|███████▏  | 36/50 [00:28<00:09,  1.49it/s]"
     ]
    },
    {
     "name": "stdout",
     "output_type": "stream",
     "text": [
      "[I 2025-10-21 12:56:56,451] Trial 33 finished with value: 0.14864883748587002 and parameters: {'n_estimators': 3277, 'learning_rate': 0.029673528225266817, 'max_depth': 9, 'min_child_weight': 6, 'subsample': 0.6831642802879137, 'colsample_bytree': 0.71483105955244, 'gamma': 0.7363110810298279, 'colsample_bynode': 0.8686613952770973, 'reg_alpha': 0.33705409764818695, 'reg_lambda': 1.0585378805503023, 'max_bin': 208}. Best is trial 23 with value: 0.1287849053379489.\n"
     ]
    },
    {
     "name": "stderr",
     "output_type": "stream",
     "text": [
      "Best trial: 23. Best value: 0.128785:  74%|███████▍  | 37/50 [00:30<00:13,  1.03s/it]"
     ]
    },
    {
     "name": "stdout",
     "output_type": "stream",
     "text": [
      "[I 2025-10-21 12:56:58,603] Trial 37 finished with value: 0.15430502602165025 and parameters: {'n_estimators': 2718, 'learning_rate': 0.027561395439453983, 'max_depth': 8, 'min_child_weight': 7, 'subsample': 0.6913511273872045, 'colsample_bytree': 0.6933785238358923, 'gamma': 1.0983874918146197, 'colsample_bynode': 0.9605620103428935, 'reg_alpha': 0.3390701425986798, 'reg_lambda': 1.744066041136029, 'max_bin': 212}. Best is trial 23 with value: 0.1287849053379489.\n"
     ]
    },
    {
     "name": "stderr",
     "output_type": "stream",
     "text": [
      "Best trial: 23. Best value: 0.128785:  76%|███████▌  | 38/50 [00:30<00:10,  1.13it/s]"
     ]
    },
    {
     "name": "stdout",
     "output_type": "stream",
     "text": [
      "[I 2025-10-21 12:56:59,074] Trial 36 finished with value: 0.14815389820164146 and parameters: {'n_estimators': 2781, 'learning_rate': 0.02700881183624186, 'max_depth': 8, 'min_child_weight': 6, 'subsample': 0.6969649957529571, 'colsample_bytree': 0.6974898516413109, 'gamma': 0.7088889262625315, 'colsample_bynode': 0.8981045419520155, 'reg_alpha': 0.3367410648996371, 'reg_lambda': 1.686288694500787, 'max_bin': 213}. Best is trial 23 with value: 0.1287849053379489.\n"
     ]
    },
    {
     "name": "stderr",
     "output_type": "stream",
     "text": [
      "Best trial: 23. Best value: 0.128785:  78%|███████▊  | 39/50 [00:32<00:10,  1.01it/s]"
     ]
    },
    {
     "name": "stdout",
     "output_type": "stream",
     "text": [
      "[I 2025-10-21 12:57:00,347] Trial 38 finished with value: 0.15573965316768862 and parameters: {'n_estimators': 3285, 'learning_rate': 0.028510691898789707, 'max_depth': 8, 'min_child_weight': 7, 'subsample': 0.6845822704599855, 'colsample_bytree': 0.643693057893338, 'gamma': 1.1639903898043693, 'colsample_bynode': 0.9612347844476344, 'reg_alpha': 0.3171365121662334, 'reg_lambda': 1.8203917602319348, 'max_bin': 195}. Best is trial 23 with value: 0.1287849053379489.\n"
     ]
    },
    {
     "name": "stderr",
     "output_type": "stream",
     "text": [
      "Best trial: 23. Best value: 0.128785:  80%|████████  | 40/50 [00:33<00:09,  1.00it/s]"
     ]
    },
    {
     "name": "stdout",
     "output_type": "stream",
     "text": [
      "[I 2025-10-21 12:57:01,360] Trial 39 finished with value: 0.1559852831801421 and parameters: {'n_estimators': 3303, 'learning_rate': 0.028488943897791504, 'max_depth': 8, 'min_child_weight': 7, 'subsample': 0.6871587038898108, 'colsample_bytree': 0.6912941623448527, 'gamma': 1.1974154312492133, 'colsample_bynode': 0.9622932721439926, 'reg_alpha': 0.3440785708068367, 'reg_lambda': 1.7212731208883998, 'max_bin': 195}. Best is trial 23 with value: 0.1287849053379489.\n"
     ]
    },
    {
     "name": "stderr",
     "output_type": "stream",
     "text": [
      "Best trial: 23. Best value: 0.128785:  82%|████████▏ | 41/50 [00:33<00:08,  1.09it/s]"
     ]
    },
    {
     "name": "stdout",
     "output_type": "stream",
     "text": [
      "[I 2025-10-21 12:57:02,079] Trial 42 finished with value: 0.14362163400539546 and parameters: {'n_estimators': 3285, 'learning_rate': 0.03490098991178713, 'max_depth': 8, 'min_child_weight': 7, 'subsample': 0.7092410272803192, 'colsample_bytree': 0.6418496916215508, 'gamma': 0.4927834558292091, 'colsample_bynode': 0.9574633578430589, 'reg_alpha': 0.1124146960235867, 'reg_lambda': 2.36568320406273, 'max_bin': 197}. Best is trial 23 with value: 0.1287849053379489.\n"
     ]
    },
    {
     "name": "stderr",
     "output_type": "stream",
     "text": [
      "Best trial: 23. Best value: 0.128785:  84%|████████▍ | 42/50 [00:34<00:06,  1.32it/s]"
     ]
    },
    {
     "name": "stdout",
     "output_type": "stream",
     "text": [
      "[I 2025-10-21 12:57:02,438] Trial 40 finished with value: 0.14114042528478024 and parameters: {'n_estimators': 3292, 'learning_rate': 0.027392764964994938, 'max_depth': 8, 'min_child_weight': 7, 'subsample': 0.6944435611202922, 'colsample_bytree': 0.6393533167633595, 'gamma': 0.409075293877333, 'colsample_bynode': 0.9529323665588599, 'reg_alpha': 0.1144939008570676, 'reg_lambda': 1.752869978481733, 'max_bin': 194}. Best is trial 23 with value: 0.1287849053379489.\n"
     ]
    },
    {
     "name": "stderr",
     "output_type": "stream",
     "text": [
      "Best trial: 23. Best value: 0.128785:  86%|████████▌ | 43/50 [00:34<00:04,  1.62it/s]"
     ]
    },
    {
     "name": "stdout",
     "output_type": "stream",
     "text": [
      "[I 2025-10-21 12:57:02,721] Trial 41 finished with value: 0.1424352185137276 and parameters: {'n_estimators': 3346, 'learning_rate': 0.03469106490466502, 'max_depth': 8, 'min_child_weight': 7, 'subsample': 0.8298022412245933, 'colsample_bytree': 0.6505081827659669, 'gamma': 0.4126461258835782, 'colsample_bynode': 0.9537622118058677, 'reg_alpha': 0.11350866449851946, 'reg_lambda': 2.45658604205945, 'max_bin': 196}. Best is trial 23 with value: 0.1287849053379489.\n"
     ]
    },
    {
     "name": "stderr",
     "output_type": "stream",
     "text": [
      "Best trial: 23. Best value: 0.128785:  88%|████████▊ | 44/50 [00:35<00:03,  1.52it/s]"
     ]
    },
    {
     "name": "stdout",
     "output_type": "stream",
     "text": [
      "[I 2025-10-21 12:57:03,472] Trial 43 finished with value: 0.14302568854400718 and parameters: {'n_estimators': 3371, 'learning_rate': 0.03400113493335274, 'max_depth': 8, 'min_child_weight': 7, 'subsample': 0.6011239836908521, 'colsample_bytree': 0.6444377075872797, 'gamma': 0.4489465605127146, 'colsample_bynode': 0.9560031232808707, 'reg_alpha': 0.6043563601422618, 'reg_lambda': 2.331018652284185, 'max_bin': 197}. Best is trial 23 with value: 0.1287849053379489.\n"
     ]
    },
    {
     "name": "stderr",
     "output_type": "stream",
     "text": [
      "Best trial: 23. Best value: 0.128785:  90%|█████████ | 45/50 [00:37<00:05,  1.03s/it]"
     ]
    },
    {
     "name": "stdout",
     "output_type": "stream",
     "text": [
      "[I 2025-10-21 12:57:05,376] Trial 44 finished with value: 0.1417729436008583 and parameters: {'n_estimators': 3413, 'learning_rate': 0.03458323941557315, 'max_depth': 10, 'min_child_weight': 8, 'subsample': 0.8421219894857619, 'colsample_bytree': 0.6425140583800736, 'gamma': 0.39607444634280586, 'colsample_bynode': 0.9216958545452246, 'reg_alpha': 0.12305847463642902, 'reg_lambda': 2.405983816869459, 'max_bin': 196}. Best is trial 23 with value: 0.1287849053379489.\n",
      "[I 2025-10-21 12:57:05,445] Trial 45 finished with value: 0.14534854062301994 and parameters: {'n_estimators': 3402, 'learning_rate': 0.03484793626174758, 'max_depth': 10, 'min_child_weight': 8, 'subsample': 0.8392096100380559, 'colsample_bytree': 0.6409850454143072, 'gamma': 0.48171201795249796, 'colsample_bynode': 0.917776321061703, 'reg_alpha': 0.5986346864937812, 'reg_lambda': 2.4067259685164553, 'max_bin': 197}. Best is trial 23 with value: 0.1287849053379489.\n"
     ]
    },
    {
     "name": "stderr",
     "output_type": "stream",
     "text": [
      "Best trial: 23. Best value: 0.128785:  94%|█████████▍| 47/50 [00:37<00:02,  1.41it/s]"
     ]
    },
    {
     "name": "stdout",
     "output_type": "stream",
     "text": [
      "[I 2025-10-21 12:57:06,056] Trial 48 finished with value: 0.14338284086704858 and parameters: {'n_estimators': 2052, 'learning_rate': 0.03524573942963554, 'max_depth': 10, 'min_child_weight': 8, 'subsample': 0.840180483992116, 'colsample_bytree': 0.738804114679433, 'gamma': 0.3849669586077949, 'colsample_bynode': 0.9163813708824304, 'reg_alpha': 0.41463985104988377, 'reg_lambda': 0.9065165277645046, 'max_bin': 180}. Best is trial 23 with value: 0.1287849053379489.\n"
     ]
    },
    {
     "name": "stderr",
     "output_type": "stream",
     "text": [
      "Best trial: 23. Best value: 0.128785:  96%|█████████▌| 48/50 [00:38<00:01,  1.67it/s]"
     ]
    },
    {
     "name": "stdout",
     "output_type": "stream",
     "text": [
      "[I 2025-10-21 12:57:06,309] Trial 46 finished with value: 0.14301756881643377 and parameters: {'n_estimators': 3452, 'learning_rate': 0.03575075380099382, 'max_depth': 10, 'min_child_weight': 8, 'subsample': 0.7325871342484568, 'colsample_bytree': 0.6370016017297716, 'gamma': 0.4409678472836056, 'colsample_bynode': 0.755887516693845, 'reg_alpha': 0.5901440935803823, 'reg_lambda': 2.3970719938371987, 'max_bin': 185}. Best is trial 23 with value: 0.1287849053379489.\n"
     ]
    },
    {
     "name": "stderr",
     "output_type": "stream",
     "text": [
      "Best trial: 23. Best value: 0.128785:  98%|█████████▊| 49/50 [00:38<00:00,  1.87it/s]"
     ]
    },
    {
     "name": "stdout",
     "output_type": "stream",
     "text": [
      "[I 2025-10-21 12:57:06,661] Trial 47 finished with value: 0.14506369504632438 and parameters: {'n_estimators': 3437, 'learning_rate': 0.03481603595295482, 'max_depth': 10, 'min_child_weight': 8, 'subsample': 0.8484662803877625, 'colsample_bytree': 0.6350096114504731, 'gamma': 0.4552980835367251, 'colsample_bynode': 0.9166943760419323, 'reg_alpha': 0.5672101085559802, 'reg_lambda': 2.2866447317747047, 'max_bin': 186}. Best is trial 23 with value: 0.1287849053379489.\n"
     ]
    },
    {
     "name": "stderr",
     "output_type": "stream",
     "text": [
      "Best trial: 23. Best value: 0.128785: 100%|██████████| 50/50 [00:39<00:00,  1.25it/s]"
     ]
    },
    {
     "name": "stdout",
     "output_type": "stream",
     "text": [
      "[I 2025-10-21 12:57:08,045] Trial 49 finished with value: 0.12895445859659543 and parameters: {'n_estimators': 2081, 'learning_rate': 0.03564467876864433, 'max_depth': 10, 'min_child_weight': 8, 'subsample': 0.6102030532529048, 'colsample_bytree': 0.7407315497933215, 'gamma': 0.010321158747477265, 'colsample_bynode': 0.9249267217547026, 'reg_alpha': 0.564177667115008, 'reg_lambda': 1.4677922029008146, 'max_bin': 185}. Best is trial 23 with value: 0.1287849053379489.\n",
      "our best model parameters are {'n_estimators': 3373, 'learning_rate': 0.03161983240300927, 'max_depth': 10, 'min_child_weight': 8, 'subsample': 0.7350055182548527, 'colsample_bytree': 0.6049906096723683, 'gamma': 0.027204454518059473, 'colsample_bynode': 0.9871502349583069, 'reg_alpha': 0.2743513913359844, 'reg_lambda': 1.510779075224781, 'max_bin': 193}\n",
      "our best model score is 0.13\n"
     ]
    },
    {
     "name": "stderr",
     "output_type": "stream",
     "text": [
      "\n"
     ]
    }
   ],
   "source": [
    "import optuna as opt\n",
    "from xgboost import XGBRegressor\n",
    "from sklearn.model_selection import cross_val_score\n",
    "from sklearn.model_selection import KFold\n",
    "from optuna.samplers import TPESampler\n",
    "from optuna.pruners import MedianPruner\n",
    "cv5 = KFold(n_splits=5, shuffle=True, random_state=35)\n",
    "\n",
    "def objective(trial):\n",
    "    params = {\n",
    "    \"n_estimators\": trial.suggest_int(\"n_estimators\", 1200, 3600),\n",
    "    \"learning_rate\": trial.suggest_float(\"learning_rate\", 0.008, 0.04),  # 降低学习率，提升上限\n",
    "    \"max_depth\": trial.suggest_int(\"max_depth\", 4, 10),\n",
    "    \"min_child_weight\": trial.suggest_int(\"min_child_weight\", 1, 8),\n",
    "    \"subsample\": trial.suggest_float(\"subsample\", 0.6, 0.95),\n",
    "    \"colsample_bytree\": trial.suggest_float(\"colsample_bytree\", 0.6, 1.0),\n",
    "    \"gamma\": trial.suggest_float(\"gamma\", 0.0, 5.0),\n",
    "    \"colsample_bynode\": trial.suggest_float(\"colsample_bynode\", 0.6, 1.0),\n",
    "\n",
    "\n",
    "    # 正则化（B2 核心）\n",
    "    \"reg_alpha\": trial.suggest_float(\"reg_alpha\", 0.0, 1.0),\n",
    "    \"reg_lambda\": trial.suggest_float(\"reg_lambda\", 0.5, 3.0),\n",
    "\n",
    "    # 新增（对稀疏 OHE 非常有效）\n",
    "    \"max_bin\": trial.suggest_int(\"max_bin\", 180, 256)\n",
    "\n",
    "}\n",
    "\n",
    "    xgb_model = XGBRegressor(\n",
    "        **params,\n",
    "        device = 'cpu',\n",
    "        tree_method =  'hist',\n",
    "        grow_policy='lossguide',\n",
    "        n_jobs = 2,\n",
    "        random_state = 35)\n",
    "    \n",
    "    xgb_pipe = Pipeline(steps = [('data_prepross', cols_transformer),('training_xgb', xgb_model)])\n",
    "\n",
    "    y_log = np.log1p(y)\n",
    "\n",
    "    score = -cross_val_score(xgb_pipe, x, y_log, cv = cv5, scoring = 'neg_root_mean_squared_error').mean()\n",
    "    return score\n",
    "\n",
    "study = opt.create_study(study_name = 'house_xgb_opt', direction = 'minimize', sampler=TPESampler(seed=35), \n",
    "                         pruner=MedianPruner(n_warmup_steps=10))\n",
    "study.optimize(objective, show_progress_bar = True, n_trials = 50, n_jobs = -1)\n",
    "\n",
    "goat_params = study.best_params\n",
    "goat_score = round(study.best_value,2)\n",
    "\n",
    "print(f'our best model parameters are {goat_params}')\n",
    "print(f'our best model score is {goat_score}')"
   ]
  },
  {
   "cell_type": "markdown",
   "id": "8d8f4abc",
   "metadata": {},
   "source": [
    "# Deliver our prediction!"
   ]
  },
  {
   "cell_type": "code",
   "execution_count": 17,
   "id": "57b631e8",
   "metadata": {},
   "outputs": [],
   "source": [
    "\n",
    "final_xgb_model = XGBRegressor(\n",
    "        **goat_params,\n",
    "        device = 'cpu',\n",
    "        tree_method =  'hist',\n",
    "        n_jobs=2, \n",
    "        grow_policy='lossguide',\n",
    "        random_state = 35)\n",
    "    \n",
    "final_xgb_pipe = Pipeline(steps = [('data_prepross', cols_transformer),('training_xgb', final_xgb_model)])\n",
    "\n",
    "final_xgb_pipe.fit(x, np.log1p(y))\n",
    "y_prediction_log = final_xgb_pipe.predict(test_df_copy)\n",
    "y_prediction = np.expm1(y_prediction_log)\n",
    "\n",
    "output = pd.DataFrame({'Id': test_df_copy.index,\n",
    "                       'SalePrice': y_prediction})\n",
    "output.to_csv('submission_feature_engineering.csv', index = False)"
   ]
  }
 ],
 "metadata": {
  "kernelspec": {
   "display_name": "Python 3",
   "language": "python",
   "name": "python3"
  },
  "language_info": {
   "codemirror_mode": {
    "name": "ipython",
    "version": 3
   },
   "file_extension": ".py",
   "mimetype": "text/x-python",
   "name": "python",
   "nbconvert_exporter": "python",
   "pygments_lexer": "ipython3",
   "version": "3.12.10"
  }
 },
 "nbformat": 4,
 "nbformat_minor": 5
}
